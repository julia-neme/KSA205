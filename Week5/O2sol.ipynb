{
 "cells": [
  {
   "cell_type": "code",
   "execution_count": 29,
   "metadata": {},
   "outputs": [],
   "source": [
    "def O2sol(S,T):\n",
    "    import numpy as np\n",
    "    \n",
    "    '''\n",
    "    % O2sol   Solubility of O2 in sea water\n",
    "    %=========================================================================\n",
    "    % O2sol Version 1.1 4/4/2005\n",
    "    %          Author: Roberta C. Hamme (Scripps Inst of Oceanography)\n",
    "    %          Translated into python by Julia Neme\n",
    "    %\n",
    "    % USAGE:  concO2 = O2sol(S,T)\n",
    "    %\n",
    "    % DESCRIPTION:\n",
    "    %    Solubility (saturation) of oxygen (O2) in sea water\n",
    "    %    at 1-atm pressure of air including saturated water vapor\n",
    "    %\n",
    "    % INPUT:  (if S and T are not singular they must have same dimensions)\n",
    "    %   S = salinity    [PSS]\n",
    "    %   T = temperature [degree C]\n",
    "    %\n",
    "    % OUTPUT:\n",
    "    %   concO2 = solubility of O2  [umol/kg] \n",
    "    % \n",
    "    % AUTHOR:  Roberta Hamme (rhamme@ucsd.edu)\n",
    "    %\n",
    "    % REFERENCE:\n",
    "    %    Hernan E. Garcia and Louis I. Gordon, 1992.\n",
    "    %    \"Oxygen solubility in seawater: Better fitting equations\"\n",
    "    %    Limnology and Oceanography, 37, pp. 1307-1312.\n",
    "    %\n",
    "    % DISCLAIMER:\n",
    "    %    This software is provided \"as is\" without warranty of any kind.  \n",
    "    %=========================================================================\n",
    "\n",
    "    % CALLER: general purpose\n",
    "    % CALLEE: sw_dens_0.m\n",
    "    '''\n",
    "        \n",
    "    # Check S,T dimensions and verify consistent\n",
    "    shape_S = np.shape(S);\n",
    "    shape_T = np.shape(T);\n",
    "\n",
    "    # Check that T&S have the same shape or are singular\n",
    "    if shape_S != shape_T:\n",
    "        raise ValueError('S & T must have same dimensions or be singular')\\\n",
    "        \n",
    "    # Convert T to scaled temperature\n",
    "    temp_S = np.log((298.15 - T)/(273.15 + T));\n",
    "\n",
    "    # Constants from Table 1 of Garcia & Gordon for the fit to Benson and Krause (1984)\n",
    "    A0_o2 = 5.80871; \n",
    "    A1_o2 = 3.20291;\n",
    "    A2_o2 = 4.17887;\n",
    "    A3_o2 = 5.10006;\n",
    "    A4_o2 = -9.86643e-2;\n",
    "    A5_o2 = 3.80369;\n",
    "    B0_o2 = -7.01577e-3;\n",
    "    B1_o2 = -7.70028e-3;\n",
    "    B2_o2 = -1.13864e-2;\n",
    "    B3_o2 = -9.51519e-3;\n",
    "    C0_o2 = -2.75915e-7;\n",
    "\n",
    "    # Corrected Eqn (8) of Garcia and Gordon 1992\n",
    "    conc_O2 = np.exp(A0_o2 + A1_o2*temp_S + A2_o2*temp_S**2 + A3_o2*temp_S**3 + A4_o2*temp_S**4 + A5_o2*temp_S**5 + S*(B0_o2 + B1_o2*temp_S + B2_o2*temp_S**2 + B3_o2*temp_S**3) + C0_o2*S**2);\n",
    "\n",
    "    return conc_O2"
   ]
  },
  {
   "cell_type": "markdown",
   "metadata": {},
   "source": [
    "You can run your calculations here. For example, let's open an example `.csv` file and calculate the solubility for a CTD profile:"
   ]
  },
  {
   "cell_type": "code",
   "execution_count": 37,
   "metadata": {},
   "outputs": [],
   "source": [
    "import pandas as pd\n",
    "import matplotlib.pyplot as plt"
   ]
  },
  {
   "cell_type": "code",
   "execution_count": 39,
   "metadata": {},
   "outputs": [],
   "source": [
    "data = pd.read_csv('CC2225003_20221114_003455.csv', skiprows = 28)\n",
    "depth = data.iloc[:,1] \n",
    "temperature = data.iloc[:,2]\n",
    "salinity = data.iloc[:,5] "
   ]
  },
  {
   "cell_type": "code",
   "execution_count": 40,
   "metadata": {},
   "outputs": [],
   "source": [
    "conc_O2 = O2sol(salinity, temperature)"
   ]
  },
  {
   "cell_type": "code",
   "execution_count": 44,
   "metadata": {},
   "outputs": [
    {
     "data": {
      "text/plain": [
       "Text(0.5, 0, 'Solubility of O2 (umol/kg)')"
      ]
     },
     "execution_count": 44,
     "metadata": {},
     "output_type": "execute_result"
    },
    {
     "data": {
      "image/png": "[encoded data removed]",
      "text/plain": [
       "<Figure size 640x480 with 1 Axes>"
      ]
     },
     "metadata": {},
     "output_type": "display_data"
    }
   ],
   "source": [
    "plt.plot(conc_O2, depth, color = 'k')\n",
    "plt.gca().invert_yaxis()\n",
    "plt.xlabel('Solubility of O2 (umol/kg)')"
   ]
  }
 ],
 "metadata": {
  "kernelspec": {
   "display_name": "ksa205",
   "language": "python",
   "name": "python3"
  },
  "language_info": {
   "codemirror_mode": {
    "name": "ipython",
    "version": 3
   },
   "file_extension": ".py",
   "mimetype": "text/x-python",
   "name": "python",
   "nbconvert_exporter": "python",
   "pygments_lexer": "ipython3",
   "version": "3.12.3"
  }
 },
 "nbformat": 4,
 "nbformat_minor": 2
}
