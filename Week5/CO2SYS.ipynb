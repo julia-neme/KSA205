{
 "cells": [
  {
   "cell_type": "markdown",
   "metadata": {},
   "source": [
    "We can use `PyCO2SYS` library to calculate carbonate system. You need to import it first like this:"
   ]
  },
  {
   "cell_type": "code",
   "execution_count": 2,
   "metadata": {},
   "outputs": [],
   "source": [
    "import PyCO2SYS as co2sys"
   ]
  },
  {
   "cell_type": "markdown",
   "metadata": {},
   "source": [
    "And you can see what the function takes as input by using `help()`:"
   ]
  },
  {
   "cell_type": "code",
   "execution_count": 7,
   "metadata": {},
   "outputs": [
    {
     "name": "stdout",
     "output_type": "stream",
     "text": [
      "Help on function CO2SYS in module PyCO2SYS.engine:\n",
      "\n",
      "CO2SYS(PAR1, PAR2, PAR1TYPE, PAR2TYPE, SAL, TEMPIN, TEMPOUT, PRESIN, PRESOUT, SI, PO4, pHSCALEIN, K1K2CONSTANTS, KSO4CONSTANTS, NH3=0.0, H2S=0.0, KFCONSTANT=1, opt_buffers_mode=1, totals=None, equilibria_in=None, equilibria_out=None, WhichR=1)\n",
      "    Solve the carbonate system using the input parameters.\n",
      "\n",
      "    Originally based on CO2SYS v1.21 and v2.0.5, both for MATLAB, which have been built\n",
      "    over many years based on an original program by Ernie Lewis and Doug Wallace, with\n",
      "    later contributions from S.M.A.C. van Heuven, J.W.B. Rae, J.C. Orr, J.-M. Epitalon,\n",
      "    A.G. Dickson, J.-P. Gattuso, and D. Pierrot.  Translated into Python and\n",
      "    subsequently extended by M.P. Humphreys.\n",
      "\n"
     ]
    }
   ],
   "source": [
    "help(co2sys.CO2SYS)"
   ]
  },
  {
   "cell_type": "code",
   "execution_count": null,
   "metadata": {},
   "outputs": [],
   "source": []
  }
 ],
 "metadata": {
  "kernelspec": {
   "display_name": "ksa205",
   "language": "python",
   "name": "python3"
  },
  "language_info": {
   "codemirror_mode": {
    "name": "ipython",
    "version": 3
   },
   "file_extension": ".py",
   "mimetype": "text/x-python",
   "name": "python",
   "nbconvert_exporter": "python",
   "pygments_lexer": "ipython3",
   "version": "3.12.3"
  }
 },
 "nbformat": 4,
 "nbformat_minor": 2
}
