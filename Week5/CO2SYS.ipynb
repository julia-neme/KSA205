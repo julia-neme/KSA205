{
 "cells": [
  {
   "cell_type": "markdown",
   "metadata": {},
   "source": [
    "We can use `PyCO2SYS` library to calculate carbonate system. You need to import it first like this:"
   ]
  },
  {
   "cell_type": "code",
   "execution_count": 2,
   "metadata": {},
   "outputs": [],
   "source": [
    "import PyCO2SYS as pyco2"
   ]
  },
  {
   "cell_type": "markdown",
   "metadata": {},
   "source": [
    "And you can see what the function takes as input by using `help()`:"
   ]
  },
  {
   "cell_type": "code",
   "execution_count": 3,
   "metadata": {},
   "outputs": [
    {
     "name": "stdout",
     "output_type": "stream",
     "text": [
      "Help on function CO2SYS in module PyCO2SYS.engine.nd:\n",
      "\n",
      "CO2SYS(par1=None, par2=None, par1_type=None, par2_type=None, salinity=35, temperature=25, pressure=0, temperature_out=None, pressure_out=None, total_ammonia=0, total_phosphate=0, total_silicate=0, total_sulfide=0, total_borate=None, total_calcium=None, total_fluoride=None, total_sulfate=None, opt_gas_constant=3, opt_k_bisulfate=1, opt_k_carbonic=10, opt_k_fluoride=1, opt_pH_scale=1, opt_total_borate=1, opt_buffers_mode=1, k_ammonia=None, k_ammonia_out=None, k_borate=None, k_borate_out=None, k_bisulfate=None, k_bisulfate_out=None, k_CO2=None, k_CO2_out=None, k_carbonic_1=None, k_carbonic_1_out=None, k_carbonic_2=None, k_carbonic_2_out=None, k_fluoride=None, k_fluoride_out=None, k_phosphoric_1=None, k_phosphoric_1_out=None, k_phosphoric_2=None, k_phosphoric_2_out=None, k_phosphoric_3=None, k_phosphoric_3_out=None, k_silicate=None, k_silicate_out=None, k_sulfide=None, k_sulfide_out=None, k_water=None, k_water_out=None, k_calcite=None, k_calcite_out=None, k_aragonite=None, k_aragonite_out=None, fugacity_factor=None, fugacity_factor_out=None, gas_constant=None, gas_constant_out=None, total_alpha=None, k_alpha=None, k_alpha_out=None, total_beta=None, k_beta=None, k_beta_out=None, vp_factor=None, vp_factor_out=None, grads_of=None, grads_wrt=None, uncertainty_into=None, uncertainty_from=None, pressure_atmosphere=1.0, pressure_atmosphere_out=1.0, opt_pressured_kCO2=0, opt_adjust_temperature=1, opt_which_fCO2_insitu=1, bh_upsilon=28995.0)\n",
      "    Run CO2SYS with n-dimensional args allowed.\n",
      "\n"
     ]
    }
   ],
   "source": [
    "help(pyco2.sys)"
   ]
  },
  {
   "cell_type": "code",
   "execution_count": null,
   "metadata": {},
   "outputs": [],
   "source": []
  }
 ],
 "metadata": {
  "kernelspec": {
   "display_name": "ksa205",
   "language": "python",
   "name": "python3"
  },
  "language_info": {
   "codemirror_mode": {
    "name": "ipython",
    "version": 3
   },
   "file_extension": ".py",
   "mimetype": "text/x-python",
   "name": "python",
   "nbconvert_exporter": "python",
   "pygments_lexer": "ipython3",
   "version": "3.12.3"
  }
 },
 "nbformat": 4,
 "nbformat_minor": 2
}
