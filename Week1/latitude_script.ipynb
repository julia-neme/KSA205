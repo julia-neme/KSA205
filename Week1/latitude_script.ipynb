{
 "cells": [
  {
   "cell_type": "markdown",
   "metadata": {},
   "source": [
    "This example script takes you through converting latitude in degrees/minutes to decimal degrees. Read through the text and run the code cells to see what each line is doing."
   ]
  },
  {
   "cell_type": "markdown",
   "metadata": {},
   "source": [
    "## Defining the input data\n",
    "\n",
    "Let's convert the latitude of Hobart, 42° 52' 49.9944' S into decimal degrees. First we need to break the latitude down into its degrees, minutes and seconds:"
   ]
  },
  {
   "cell_type": "code",
   "execution_count": 1,
   "metadata": {},
   "outputs": [],
   "source": [
    "lat_degrees = -42\n",
    "lat_minutes = -52\n",
    "lat_sec = -49.9944"
   ]
  },
  {
   "cell_type": "markdown",
   "metadata": {},
   "source": [
    "## Do the conversion\n",
    "The next step is to calculate the decimal degrees, using our knowledge of latitude, and the input data above for this specific case."
   ]
  },
  {
   "cell_type": "code",
   "execution_count": 3,
   "metadata": {},
   "outputs": [
    {
     "data": {
      "text/plain": [
       "-42.880554000000004"
      ]
     },
     "execution_count": 3,
     "metadata": {},
     "output_type": "execute_result"
    }
   ],
   "source": [
    "lat_Hobart_dec = lat_degrees + (lat_minutes + (lat_sec/60))/60\n",
    "lat_Hobart_dec"
   ]
  },
  {
   "cell_type": "markdown",
   "metadata": {},
   "source": [
    "## Generalise into a function\n",
    "\n",
    "We can define our own functions to do specific things that we want. Let's define a function that does this latitude conversation for any degree, minute, second value. The definition of a function is done with the following syntax:\n",
    "\n",
    "```\n",
    "def function_name(argument_1, argument_2, argument_3, etc):\n",
    "    code\n",
    "    code\n",
    "    code\n",
    "    return result\n",
    "```\n",
    "\n",
    "and it will only return what we ask it to return. Anything else that is calculated within the function, but not specified to return will not be outputed. And here is where **indentation matters**. *The lines of code must have 1 indent space in order to work!*\n",
    "\n",
    "It is also possible (and good practice) to add some information on what the function does, what input it takes and what it outputs. You can do this by writing between two sets of '''"
   ]
  },
  {
   "cell_type": "code",
   "execution_count": 3,
   "metadata": {},
   "outputs": [],
   "source": [
    "def latitude(deg,min,sec):\n",
    "    '''\n",
    "    latitude_function convert latitude in degrees, minutes, seconds, to\n",
    "    decimal degrees\n",
    "    \n",
    "    Use As:  latitude_function(deg,min,sec)\n",
    "         \n",
    "    \n",
    "    Input:    deg = degrees of latitude\n",
    "              min = minutes of latitude\n",
    "              sec = seconds of latitude\n",
    "    \n",
    "    Output:   decimal degrees latitude\n",
    "    \n",
    "    Example:  latitude_function(-42,-52,-49.994) -> -42.8806\n",
    "    For negative latitudes, min and sec must also be entered as negatives          \n",
    "    \n",
    "    Zanna Chase, January 2023\n",
    "    '''\n",
    "\n",
    "    lat_dec = deg + (min + (sec/60))/60\n",
    "\n",
    "    return lat_dec"
   ]
  }
 ],
 "metadata": {
  "kernelspec": {
   "display_name": "ksa205",
   "language": "python",
   "name": "python3"
  },
  "language_info": {
   "codemirror_mode": {
    "name": "ipython",
    "version": 3
   },
   "file_extension": ".py",
   "mimetype": "text/x-python",
   "name": "python",
   "nbconvert_exporter": "python",
   "pygments_lexer": "ipython3",
   "version": "3.12.3"
  }
 },
 "nbformat": 4,
 "nbformat_minor": 2
}
