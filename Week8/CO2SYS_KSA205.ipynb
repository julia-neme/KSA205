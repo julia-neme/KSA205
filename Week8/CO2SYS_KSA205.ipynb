{
 "cells": [
  {
   "cell_type": "markdown",
   "metadata": {},
   "source": [
    "Here is how you calculate pCO2 and DIC from pH and alkalinity using PyCO2SYS:"
   ]
  },
  {
   "cell_type": "code",
   "execution_count": 12,
   "metadata": {},
   "outputs": [],
   "source": [
    "import PyCO2SYS as pyco2"
   ]
  },
  {
   "cell_type": "code",
   "execution_count": 2,
   "metadata": {},
   "outputs": [],
   "source": [
    "pH = 8; # enter your measured pH here\n",
    "alkalinity = 2400; # enter your measured alkalinity here in units of umol/kg\n",
    "salinity = 35; # enter your measured salinity here in units of g/kg\n",
    "temp = 20; # enter your measured temperature here in degrees C"
   ]
  },
  {
   "cell_type": "code",
   "execution_count": 19,
   "metadata": {},
   "outputs": [],
   "source": [
    "result = pyco2.sys(alkalinity,pH,1,3,salinity,temp,temp,0,0,0,0,0,0,1,4,1,1,1)"
   ]
  },
  {
   "cell_type": "code",
   "execution_count": 24,
   "metadata": {},
   "outputs": [
    {
     "data": {
      "text/plain": [
       "2229.043674949808"
      ]
     },
     "execution_count": 24,
     "metadata": {},
     "output_type": "execute_result"
    }
   ],
   "source": [
    "DIC = result['dic'] # calculated DIC in units of umol/kg\n",
    "DIC"
   ]
  },
  {
   "cell_type": "code",
   "execution_count": 25,
   "metadata": {},
   "outputs": [
    {
     "data": {
      "text/plain": [
       "488.649179563522"
      ]
     },
     "execution_count": 25,
     "metadata": {},
     "output_type": "execute_result"
    }
   ],
   "source": [
    "pCO2 = result['pCO2'] # calculated pCO2 in units of uatm\n",
    "pCO2"
   ]
  },
  {
   "cell_type": "markdown",
   "metadata": {},
   "source": [
    "Here is how you calculate pCO2 and pH from DIC and alkalinity using PyCO2SYS:"
   ]
  },
  {
   "cell_type": "code",
   "execution_count": 26,
   "metadata": {},
   "outputs": [],
   "source": [
    "result = pyco2.sys(alkalinity,DIC,1,2,salinity,temp,temp,0,0,0,0,0,0,1,4,1,1,1)"
   ]
  },
  {
   "cell_type": "code",
   "execution_count": 27,
   "metadata": {},
   "outputs": [
    {
     "data": {
      "text/plain": [
       "488.64917956352417"
      ]
     },
     "execution_count": 27,
     "metadata": {},
     "output_type": "execute_result"
    }
   ],
   "source": [
    "pCO2 = result['pCO2'] # calculated pCO2 in units of uatm\n",
    "pCO2"
   ]
  },
  {
   "cell_type": "code",
   "execution_count": 28,
   "metadata": {},
   "outputs": [
    {
     "data": {
      "text/plain": [
       "7.999999999999998"
      ]
     },
     "execution_count": 28,
     "metadata": {},
     "output_type": "execute_result"
    }
   ],
   "source": [
    "pH = result['pH'] # calculated pH\n",
    "pH"
   ]
  }
 ],
 "metadata": {
  "kernelspec": {
   "display_name": "ksa205",
   "language": "python",
   "name": "python3"
  },
  "language_info": {
   "codemirror_mode": {
    "name": "ipython",
    "version": 3
   },
   "file_extension": ".py",
   "mimetype": "text/x-python",
   "name": "python",
   "nbconvert_exporter": "python",
   "pygments_lexer": "ipython3",
   "version": "3.12.3"
  }
 },
 "nbformat": 4,
 "nbformat_minor": 2
}
